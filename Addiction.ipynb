{
 "cells": [
  {
   "cell_type": "code",
   "execution_count": null,
   "metadata": {},
   "outputs": [],
   "source": [
    "import random\n",
    "import string\n",
    "from IPython.display import clear_output\n",
    "import math\n",
    "import colorama\n",
    "\n",
    "suits = ('Hearts', 'Diamonds', 'Spades', 'Clubs')\n",
    "ranks = ('Two', 'Three', 'Four', 'Five', 'Six', 'Seven', 'Eight', 'Nine', 'Ten', 'Jack', 'Queen', 'King', 'Ace')\n",
    "values = {'Two':2, 'Three':3, 'Four':4, 'Five':5, 'Six':6, 'Seven':7, 'Eight':8, \n",
    "            'Nine':9, 'Ten':10, 'Jack':11, 'Queen':12, 'King':13, 'Ace':1}\n",
    "values = {'Two':2, 'Three':3, 'Four':4, 'Five':5, 'Six':6, 'Seven':7, 'Eight':8, \n",
    "            'Nine':9, 'Ten':10, 'Jack':11, 'Queen':12, 'King':13, 'Ace':1}"
   ]
  },
  {
   "cell_type": "code",
   "execution_count": null,
   "metadata": {},
   "outputs": [],
   "source": []
  },
  {
   "cell_type": "code",
   "execution_count": 320,
   "metadata": {},
   "outputs": [],
   "source": [
    "class Card:\n",
    "    \n",
    "    \n",
    "    def __init__(self, suit, rank):\n",
    "        self.suit = suit\n",
    "        self.rank = rank\n",
    "        self.value = values[rank]\n",
    "        \n",
    "    def __str__(self):\n",
    "        dsuit = {'Hearts': '♥', 'Diamonds': '♦', 'Spades': '♠', 'Clubs' : '♣'}\n",
    "        drank = {2:'2', 3:'3', 4:'4', 5:'5', 6:'6', 7:'7', 8:'8', \n",
    "            9:'9', 10:'10', 11:'J', 12:'Q', 13:'K', 1:'A'}\n",
    "        black = '\\u001b[30m'\n",
    "        if self.suit == 'Hearts' or self.suit == 'Diamonds':\n",
    "            color = '\\x1b[31m'\n",
    "        else:\n",
    "            color = black\n",
    "        return '{}{}{}'.format(color, drank[self.value], dsuit[self.suit], black) "
   ]
  },
  {
   "cell_type": "code",
   "execution_count": null,
   "metadata": {},
   "outputs": [],
   "source": []
  },
  {
   "cell_type": "code",
   "execution_count": 321,
   "metadata": {
    "scrolled": true
   },
   "outputs": [
    {
     "name": "stdout",
     "output_type": "stream",
     "text": [
      "\u001b[31m2♥\n",
      "\u001b[30m2♠\n"
     ]
    }
   ],
   "source": [
    "print(Card('Hearts', 'Two'))\n",
    "print(Card('Spades', 'Two'))"
   ]
  },
  {
   "cell_type": "code",
   "execution_count": 322,
   "metadata": {},
   "outputs": [],
   "source": [
    "class Deck:\n",
    "    \n",
    "    def __init__(self):\n",
    "        self.deck = []\n",
    "        for suit in suits:\n",
    "            for rank in ranks:\n",
    "                self.deck.append(Card(suit,rank))\n",
    "                \n",
    "    def __str__(self):\n",
    "        s = ''\n",
    "        for card in self.deck:\n",
    "            s += card.__str__() + '\\n'\n",
    "        return s\n",
    "    \n",
    "    def __len__(self):\n",
    "        return len(self.deck)\n",
    "            \n",
    "    def shuffle(self):\n",
    "        random.shuffle(self.deck)\n",
    "        \n",
    "    def deal(self):\n",
    "        return self.deck.pop()"
   ]
  },
  {
   "cell_type": "code",
   "execution_count": null,
   "metadata": {},
   "outputs": [],
   "source": []
  },
  {
   "cell_type": "code",
   "execution_count": 291,
   "metadata": {},
   "outputs": [],
   "source": [
    "class Game:\n",
    "    \n",
    "    def __init__(self):\n",
    "        self.shuffles = 4\n",
    "        self.board = [ [ None for i in range(13) ] for j in range(4) ]\n",
    "        self.deck = Deck()\n",
    "    \n",
    "    def __str__(self):\n",
    "        s = 'Shuffles: {}\\n\\t|'.format(self.shuffles)\n",
    "        \n",
    "        s += '\\t'.join([str(i) for i in range(13)]) + '\\n'+ '_'*113 + '\\n'\n",
    "        for i, row in enumerate(self.board):\n",
    "            s += str(i) + '\\t|'\n",
    "            for col in row:\n",
    "                if col == None:\n",
    "                    s += '\\t'\n",
    "                else:\n",
    "                    s += col.__str__() + '\\t'\n",
    "            s += '\\n\\t|\\n'\n",
    "        return s\n",
    "    \n",
    "    \n",
    "    def refill_deck(self):\n",
    "        self.deck.deck = [Card('Spades','Ace'), Card('Hearts','Ace'), Card('Diamonds','Ace'),Card('Clubs','Ace')]\n",
    "        # iterate through each row\n",
    "        for i in range(len(self.board)):\n",
    "            # set valid test parameters\n",
    "            j = 0\n",
    "            if self.board[i][j] != None:\n",
    "                suit = self.board[i][j].suit\n",
    "                while self.board[i][j] != None and self.board[i][j].suit == suit and self.board[i][j].value == (j+2):\n",
    "                    j += 1\n",
    "                while j < 13:\n",
    "                    card = self.board[i][j]\n",
    "                    if card != None:\n",
    "                        self.deck.deck.append(card)\n",
    "                        self.board[i][j] = None\n",
    "                    j += 1\n",
    "                    \n",
    "    def shuffle(self):\n",
    "        # Check if shuffles are left\n",
    "        self.deck.shuffle()\n",
    "        for i in range(len(self.board)):\n",
    "            for j in range(len(self.board[i])):\n",
    "                if self.board[i][j] == None:\n",
    "                    cell = self.deck.deal()\n",
    "                    if cell.rank != 'Ace':\n",
    "                        self.board[i][j] = cell\n",
    "        self.shuffles -= 1"
   ]
  },
  {
   "cell_type": "code",
   "execution_count": 283,
   "metadata": {},
   "outputs": [],
   "source": [
    "test_game = Game()"
   ]
  },
  {
   "cell_type": "code",
   "execution_count": 315,
   "metadata": {},
   "outputs": [],
   "source": [
    "test_game.refill_deck()"
   ]
  },
  {
   "cell_type": "code",
   "execution_count": null,
   "metadata": {},
   "outputs": [],
   "source": []
  },
  {
   "cell_type": "code",
   "execution_count": 323,
   "metadata": {},
   "outputs": [
    {
     "ename": "IndexError",
     "evalue": "pop from empty list",
     "output_type": "error",
     "traceback": [
      "\u001b[0;31m---------------------------------------------------------------------------\u001b[0m",
      "\u001b[0;31mIndexError\u001b[0m                                Traceback (most recent call last)",
      "\u001b[0;32m<ipython-input-323-4fe81f7b0e3a>\u001b[0m in \u001b[0;36m<module>\u001b[0;34m\u001b[0m\n\u001b[0;32m----> 1\u001b[0;31m \u001b[0mtest_game\u001b[0m\u001b[0;34m.\u001b[0m\u001b[0mshuffle\u001b[0m\u001b[0;34m(\u001b[0m\u001b[0;34m)\u001b[0m\u001b[0;34m\u001b[0m\u001b[0;34m\u001b[0m\u001b[0m\n\u001b[0m\u001b[1;32m      2\u001b[0m \u001b[0mprint\u001b[0m\u001b[0;34m(\u001b[0m\u001b[0mtest_game\u001b[0m\u001b[0;34m)\u001b[0m\u001b[0;34m\u001b[0m\u001b[0;34m\u001b[0m\u001b[0m\n",
      "\u001b[0;32m<ipython-input-282-bd14e916c763>\u001b[0m in \u001b[0;36mshuffle\u001b[0;34m(self)\u001b[0m\n\u001b[1;32m     44\u001b[0m             \u001b[0;32mfor\u001b[0m \u001b[0mj\u001b[0m \u001b[0;32min\u001b[0m \u001b[0mrange\u001b[0m\u001b[0;34m(\u001b[0m\u001b[0mlen\u001b[0m\u001b[0;34m(\u001b[0m\u001b[0mself\u001b[0m\u001b[0;34m.\u001b[0m\u001b[0mboard\u001b[0m\u001b[0;34m[\u001b[0m\u001b[0mi\u001b[0m\u001b[0;34m]\u001b[0m\u001b[0;34m)\u001b[0m\u001b[0;34m)\u001b[0m\u001b[0;34m:\u001b[0m\u001b[0;34m\u001b[0m\u001b[0;34m\u001b[0m\u001b[0m\n\u001b[1;32m     45\u001b[0m                 \u001b[0;32mif\u001b[0m \u001b[0mself\u001b[0m\u001b[0;34m.\u001b[0m\u001b[0mboard\u001b[0m\u001b[0;34m[\u001b[0m\u001b[0mi\u001b[0m\u001b[0;34m]\u001b[0m\u001b[0;34m[\u001b[0m\u001b[0mj\u001b[0m\u001b[0;34m]\u001b[0m \u001b[0;34m==\u001b[0m \u001b[0;32mNone\u001b[0m\u001b[0;34m:\u001b[0m\u001b[0;34m\u001b[0m\u001b[0;34m\u001b[0m\u001b[0m\n\u001b[0;32m---> 46\u001b[0;31m                     \u001b[0mcell\u001b[0m \u001b[0;34m=\u001b[0m \u001b[0mself\u001b[0m\u001b[0;34m.\u001b[0m\u001b[0mdeck\u001b[0m\u001b[0;34m.\u001b[0m\u001b[0mdeal\u001b[0m\u001b[0;34m(\u001b[0m\u001b[0;34m)\u001b[0m\u001b[0;34m\u001b[0m\u001b[0;34m\u001b[0m\u001b[0m\n\u001b[0m\u001b[1;32m     47\u001b[0m                     \u001b[0;32mif\u001b[0m \u001b[0mcell\u001b[0m\u001b[0;34m.\u001b[0m\u001b[0mrank\u001b[0m \u001b[0;34m!=\u001b[0m \u001b[0;34m'Ace'\u001b[0m\u001b[0;34m:\u001b[0m\u001b[0;34m\u001b[0m\u001b[0;34m\u001b[0m\u001b[0m\n\u001b[1;32m     48\u001b[0m                         \u001b[0mself\u001b[0m\u001b[0;34m.\u001b[0m\u001b[0mboard\u001b[0m\u001b[0;34m[\u001b[0m\u001b[0mi\u001b[0m\u001b[0;34m]\u001b[0m\u001b[0;34m[\u001b[0m\u001b[0mj\u001b[0m\u001b[0;34m]\u001b[0m \u001b[0;34m=\u001b[0m \u001b[0mcell\u001b[0m\u001b[0;34m\u001b[0m\u001b[0;34m\u001b[0m\u001b[0m\n",
      "\u001b[0;32m<ipython-input-267-091a05cc4202>\u001b[0m in \u001b[0;36mdeal\u001b[0;34m(self)\u001b[0m\n\u001b[1;32m     20\u001b[0m \u001b[0;34m\u001b[0m\u001b[0m\n\u001b[1;32m     21\u001b[0m     \u001b[0;32mdef\u001b[0m \u001b[0mdeal\u001b[0m\u001b[0;34m(\u001b[0m\u001b[0mself\u001b[0m\u001b[0;34m)\u001b[0m\u001b[0;34m:\u001b[0m\u001b[0;34m\u001b[0m\u001b[0;34m\u001b[0m\u001b[0m\n\u001b[0;32m---> 22\u001b[0;31m         \u001b[0;32mreturn\u001b[0m \u001b[0mself\u001b[0m\u001b[0;34m.\u001b[0m\u001b[0mdeck\u001b[0m\u001b[0;34m.\u001b[0m\u001b[0mpop\u001b[0m\u001b[0;34m(\u001b[0m\u001b[0;34m)\u001b[0m\u001b[0;34m\u001b[0m\u001b[0;34m\u001b[0m\u001b[0m\n\u001b[0m",
      "\u001b[0;31mIndexError\u001b[0m: pop from empty list"
     ]
    }
   ],
   "source": [
    "test_game.shuffle()\n",
    "print(test_game)"
   ]
  },
  {
   "cell_type": "code",
   "execution_count": 317,
   "metadata": {},
   "outputs": [
    {
     "name": "stdout",
     "output_type": "stream",
     "text": [
      "Shuffles: -4\n",
      "\t|0\t1\t2\t3\t4\t5\t6\t7\t8\t9\t10\t11\t12\n",
      "_________________________________________________________________________________________________________________\n",
      "0\t|\u001b[30m2♣\t\t\t\t\t\t\t\t\t\t\t\t\t\n",
      "\t|\n",
      "1\t|\t\t\t\t\t\t\t\t\t\t\t\t\t\n",
      "\t|\n",
      "2\t|\t\t\t\t\t\t\t\t\t\t\t\t\t\n",
      "\t|\n",
      "3\t|\t\t\t\t\t\t\t\t\t\t\t\t\t\n",
      "\t|\n",
      "\n"
     ]
    }
   ],
   "source": [
    "print(test_game)"
   ]
  },
  {
   "cell_type": "code",
   "execution_count": 213,
   "metadata": {},
   "outputs": [],
   "source": [
    "def empty_cell(game, pos):\n",
    "    row, col = pos\n",
    "    if (0 <= row <= 3 and 0 <= col <= 12):\n",
    "        return game.board[row][col] == None\n",
    "    return False"
   ]
  },
  {
   "cell_type": "code",
   "execution_count": 214,
   "metadata": {},
   "outputs": [],
   "source": [
    "def get_rank(val): \n",
    "    for rank, value in values.items(): \n",
    "        if val == value: \n",
    "            return rank "
   ]
  },
  {
   "cell_type": "code",
   "execution_count": 196,
   "metadata": {},
   "outputs": [],
   "source": [
    "def ask_for_suit(game):    \n",
    "    while True:\n",
    "        suit = input('Pick a suit: ')\n",
    "        if suit in suits:\n",
    "            return suit\n",
    "            "
   ]
  },
  {
   "cell_type": "code",
   "execution_count": 197,
   "metadata": {},
   "outputs": [],
   "source": [
    "def erase_old_card(game, card):\n",
    "    \n",
    "    for i in range(len(game.board)):\n",
    "        for j in range(len(game.board[i])):\n",
    "            if game.board[i][j] != None and game.board[i][j].suit == card.suit and game.board[i][j].value == card.value:\n",
    "                game.board[i][j] = None\n",
    "                return game\n",
    "    return game"
   ]
  },
  {
   "cell_type": "code",
   "execution_count": null,
   "metadata": {},
   "outputs": [],
   "source": []
  },
  {
   "cell_type": "code",
   "execution_count": 198,
   "metadata": {},
   "outputs": [],
   "source": [
    "def pick_spot(game):\n",
    "\n",
    "    while True:\n",
    "        try:\n",
    "            print(game)\n",
    "            pos = input('Choose an empty space (row,col): ')\n",
    "            row,col = int(pos[0]), int(pos[2:])\n",
    "        except:\n",
    "            # Case: not a cooradnet\n",
    "            clear_output()\n",
    "            print('Sorry, invalid format')\n",
    "        else:\n",
    "            # Case: not an empty cell\n",
    "            if not empty_cell(game, (row, col)): \n",
    "                clear_output()\n",
    "                print('Sorry, that is not an empty cell')\n",
    "            elif col != 0 and (game.board[row][col - 1] == None or game.board[row][col - 1].value == 13):\n",
    "                clear_output()\n",
    "                print('Nothing to move there')\n",
    "            elif col == 0:\n",
    "                card = Card(ask_for_suit(game), 'Two')\n",
    "                game = erase_old_card(game, card)\n",
    "                game.board[row][col] = card\n",
    "                clear_output()\n",
    "                return game\n",
    "            else:\n",
    "                card = Card(game.board[row][col - 1].suit, get_rank(game.board[row][col - 1].value + 1))\n",
    "                game = erase_old_card(game, card)\n",
    "                game.board[row][col] = card\n",
    "                clear_output()\n",
    "                return game"
   ]
  },
  {
   "cell_type": "code",
   "execution_count": 199,
   "metadata": {},
   "outputs": [],
   "source": [
    "# pick_spot(test_game)"
   ]
  },
  {
   "cell_type": "code",
   "execution_count": 200,
   "metadata": {},
   "outputs": [
    {
     "name": "stdout",
     "output_type": "stream",
     "text": [
      "Shuffles: 3\n",
      "\t|0\t1\t2\t3\t4\t5\t6\t7\t8\t9\t10\t11\t12\n",
      "_________________________________________________________________________________________________________________\n",
      "0\t|\u001b[30m10♣\t\u001b[30m8♣\t\u001b[30mJ♣\t\u001b[31m7♥\t\u001b[31m2♥\t\t\u001b[30m10♠\t\u001b[31m6♦\t\u001b[31m8♦\t\u001b[30mQ♣\t\u001b[30m5♠\t\u001b[30m4♠\t\u001b[30m2♠\t\n",
      "\t|\n",
      "1\t|\u001b[31mK♥\t\u001b[30m4♣\t\u001b[30m6♣\t\u001b[31m10♥\t\u001b[30mK♠\t\u001b[30m8♠\t\u001b[31mK♦\t\u001b[31m10♦\t\u001b[30m6♠\t\u001b[30m7♣\t\u001b[31mQ♦\t\u001b[31m2♦\t\u001b[31m6♥\t\n",
      "\t|\n",
      "2\t|\u001b[31mJ♦\t\u001b[30m9♣\t\u001b[30mK♣\t\u001b[30m9♠\t\u001b[31m5♥\t\u001b[31mJ♥\t\u001b[31m8♥\t\u001b[31m3♥\t\u001b[31m4♥\t\u001b[31m9♥\t\u001b[31m5♦\t\t\u001b[30m2♣\t\n",
      "\t|\n",
      "3\t|\u001b[31m7♦\t\t\u001b[30mJ♠\t\u001b[30m5♣\t\u001b[30m7♠\t\t\u001b[30m3♣\t\u001b[30m3♠\t\u001b[31mQ♥\t\u001b[30mQ♠\t\u001b[31m3♦\t\u001b[31m9♦\t\u001b[31m4♦\t\n",
      "\t|\n",
      "\n"
     ]
    }
   ],
   "source": [
    "print(test_game)"
   ]
  },
  {
   "cell_type": "code",
   "execution_count": 201,
   "metadata": {},
   "outputs": [],
   "source": [
    "def moves_available(game):\n",
    "    spots = 0\n",
    "    for i in range(len(game.board)):\n",
    "        if game.board[i][0] == None:\n",
    "            return True\n",
    "        for j in range(1, len(game.board[i])):\n",
    "            card = game.board[i][j]\n",
    "            if card == None:\n",
    "                if game.board[i][j - 1] != None and game.board[i][j - 1].value < 13:\n",
    "                    return True\n",
    "                else:\n",
    "                    spots += 1\n",
    "            if spots == 4:\n",
    "                return False\n",
    "    return False"
   ]
  },
  {
   "cell_type": "code",
   "execution_count": 325,
   "metadata": {},
   "outputs": [],
   "source": [
    "def won(game):\n",
    "    for row in game.board:\n",
    "        if row[0] == None or row[0].value != 2:\n",
    "            return False\n",
    "        suit = row[0].suit\n",
    "        for (val, card) in zip(range(3, 14), row[1:14]):\n",
    "            if card == None or card.suit != suit or card.value != val:\n",
    "                return False\n",
    "    return True"
   ]
  },
  {
   "cell_type": "code",
   "execution_count": 203,
   "metadata": {},
   "outputs": [
    {
     "name": "stdout",
     "output_type": "stream",
     "text": [
      "Shuffles: 3\n",
      "\t|0\t1\t2\t3\t4\t5\t6\t7\t8\t9\t10\t11\t12\n",
      "_________________________________________________________________________________________________________________\n",
      "0\t|\u001b[30m10♣\t\u001b[30m8♣\t\u001b[30mJ♣\t\u001b[31m7♥\t\u001b[31m2♥\t\t\u001b[30m10♠\t\u001b[31m6♦\t\u001b[31m8♦\t\u001b[30mQ♣\t\u001b[30m5♠\t\u001b[30m4♠\t\u001b[30m2♠\t\n",
      "\t|\n",
      "1\t|\u001b[31mK♥\t\u001b[30m4♣\t\u001b[30m6♣\t\u001b[31m10♥\t\u001b[30mK♠\t\u001b[30m8♠\t\u001b[31mK♦\t\u001b[31m10♦\t\u001b[30m6♠\t\u001b[30m7♣\t\u001b[31mQ♦\t\u001b[31m2♦\t\u001b[31m6♥\t\n",
      "\t|\n",
      "2\t|\u001b[31mJ♦\t\u001b[30m9♣\t\u001b[30mK♣\t\u001b[30m9♠\t\u001b[31m5♥\t\u001b[31mJ♥\t\u001b[31m8♥\t\u001b[31m3♥\t\u001b[31m4♥\t\u001b[31m9♥\t\u001b[31m5♦\t\t\u001b[30m2♣\t\n",
      "\t|\n",
      "3\t|\u001b[31m7♦\t\t\u001b[30mJ♠\t\u001b[30m5♣\t\u001b[30m7♠\t\t\u001b[30m3♣\t\u001b[30m3♠\t\u001b[31mQ♥\t\u001b[30mQ♠\t\u001b[31m3♦\t\u001b[31m9♦\t\u001b[31m4♦\t\n",
      "\t|\n",
      "\n"
     ]
    },
    {
     "data": {
      "text/plain": [
       "False"
      ]
     },
     "execution_count": 203,
     "metadata": {},
     "output_type": "execute_result"
    }
   ],
   "source": [
    "print(test_game)\n",
    "won(test_game)"
   ]
  },
  {
   "cell_type": "code",
   "execution_count": 205,
   "metadata": {
    "scrolled": true
   },
   "outputs": [
    {
     "name": "stdout",
     "output_type": "stream",
     "text": [
      "None\n"
     ]
    },
    {
     "ename": "AttributeError",
     "evalue": "'NoneType' object has no attribute 'refill_deck'",
     "output_type": "error",
     "traceback": [
      "\u001b[0;31m---------------------------------------------------------------------------\u001b[0m",
      "\u001b[0;31mAttributeError\u001b[0m                            Traceback (most recent call last)",
      "\u001b[0;32m<ipython-input-205-a0d4219ea1e9>\u001b[0m in \u001b[0;36m<module>\u001b[0;34m\u001b[0m\n\u001b[1;32m      1\u001b[0m \u001b[0mprint\u001b[0m\u001b[0;34m(\u001b[0m\u001b[0mtest_game\u001b[0m\u001b[0;34m)\u001b[0m\u001b[0;34m\u001b[0m\u001b[0;34m\u001b[0m\u001b[0m\n\u001b[0;32m----> 2\u001b[0;31m \u001b[0mtest_game\u001b[0m \u001b[0;34m=\u001b[0m \u001b[0mtest_game\u001b[0m\u001b[0;34m.\u001b[0m\u001b[0mrefill_deck\u001b[0m\u001b[0;34m(\u001b[0m\u001b[0;34m)\u001b[0m\u001b[0;34m\u001b[0m\u001b[0;34m\u001b[0m\u001b[0m\n\u001b[0m\u001b[1;32m      3\u001b[0m \u001b[0mprint\u001b[0m\u001b[0;34m(\u001b[0m\u001b[0mtest_game\u001b[0m\u001b[0;34m)\u001b[0m\u001b[0;34m\u001b[0m\u001b[0;34m\u001b[0m\u001b[0m\n",
      "\u001b[0;31mAttributeError\u001b[0m: 'NoneType' object has no attribute 'refill_deck'"
     ]
    }
   ],
   "source": [
    "print(test_game)\n",
    "test_game = test_game.refill_deck()\n",
    "print(test_game)"
   ]
  },
  {
   "cell_type": "code",
   "execution_count": 120,
   "metadata": {},
   "outputs": [],
   "source": [
    "def end_game(outcome):\n",
    "    if outcome == 'won':\n",
    "        print('Yay you won!')\n",
    "    else:\n",
    "        print('Sorry, you lost :(')\n",
    "    while True:\n",
    "        playing = input(\"Play again? Y/N: \")\n",
    "        if playing == 'Y':\n",
    "            return True\n",
    "        elif playing == 'N':\n",
    "            return False\n",
    "    return False"
   ]
  },
  {
   "cell_type": "code",
   "execution_count": null,
   "metadata": {},
   "outputs": [],
   "source": [
    "def play_game():\n",
    "    playing = True\n",
    "    print('Welcome to Addiction Solitaire!')\n",
    "\n",
    "    while playing:\n",
    "        # reset the game\n",
    "        game = Game()\n",
    "        game.shuffle()\n",
    "\n",
    "        while True:\n",
    "            if moves_available(game):\n",
    "                game = pick_spot(game)\n",
    "            else:\n",
    "                if won(game):\n",
    "                    playing = end_game('won')\n",
    "                    break\n",
    "                elif game.shuffles == 0:\n",
    "                    playing = end_game('lost')\n",
    "                    break\n",
    "                else:\n",
    "                    game.refill_deck()\n",
    "                    print('Shuffling...no moves left')\n",
    "                    game.shuffle()"
   ]
  },
  {
   "cell_type": "code",
   "execution_count": null,
   "metadata": {},
   "outputs": [],
   "source": [
    "play_game()"
   ]
  },
  {
   "cell_type": "code",
   "execution_count": null,
   "metadata": {},
   "outputs": [],
   "source": []
  },
  {
   "cell_type": "code",
   "execution_count": null,
   "metadata": {},
   "outputs": [],
   "source": []
  }
 ],
 "metadata": {
  "kernelspec": {
   "display_name": "Python 3",
   "language": "python",
   "name": "python3"
  },
  "language_info": {
   "codemirror_mode": {
    "name": "ipython",
    "version": 3
   },
   "file_extension": ".py",
   "mimetype": "text/x-python",
   "name": "python",
   "nbconvert_exporter": "python",
   "pygments_lexer": "ipython3",
   "version": "3.7.6"
  }
 },
 "nbformat": 4,
 "nbformat_minor": 4
}
